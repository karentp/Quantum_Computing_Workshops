{
 "cells": [
  {
   "cell_type": "markdown",
   "metadata": {},
   "source": [
    "# Notebook 4 — Tiny Grover's Algorithm (2 qubits)\n",
    "**Goal:** Implement a minimal Grover search for a single marked element among 4 items.\n",
    "\n",
    "We use Qiskit's building blocks to assemble:\n",
    "1. State initialization (uniform superposition)\n",
    "2. Oracle that flips the phase of the marked state\n",
    "3. Grover diffuser\n",
    "4. Measurement"
   ]
  },
  {
   "cell_type": "code",
   "execution_count": null,
   "metadata": {},
   "outputs": [],
   "source": [
    "from qiskit import QuantumCircuit, transpile\n",
    "from qiskit_aer import Aer\n",
    "from qiskit.visualization import plot_histogram\n",
    "import numpy as np\n",
    "\n",
    "backend = Aer.get_backend('qasm_simulator')"
   ]
  },
  {
   "cell_type": "code",
   "execution_count": null,
   "metadata": {},
   "outputs": [],
   "source": [
    "def diffuser(n):\n",
    "    qc = QuantumCircuit(n)\n",
    "    qc.h(range(n))\n",
    "    qc.x(range(n))\n",
    "    qc.h(n-1)\n",
    "    qc.mcx(list(range(n-1)), n-1)  # multi-controlled X (may decompose)\n",
    "    qc.h(n-1)\n",
    "    qc.x(range(n))\n",
    "    qc.h(range(n))\n",
    "    return qc"
   ]
  },
  {
   "cell_type": "code",
   "execution_count": null,
   "metadata": {},
   "outputs": [],
   "source": [
    "def phase_oracle_for_state(target, n=2):\n",
    "    # target is a bitstring like '11' or '01'\n",
    "    qc = QuantumCircuit(n)\n",
    "    # Apply X to qubits where target bit is '0' so that only the target maps to |11...1>\n",
    "    for i, bit in enumerate(reversed(target)):\n",
    "        if bit == '0':\n",
    "            qc.x(i)\n",
    "    # Phase flip on |11>\n",
    "    qc.h(n-1)\n",
    "    qc.mcx(list(range(n-1)), n-1)\n",
    "    qc.h(n-1)\n",
    "    # Undo the X\n",
    "    for i, bit in enumerate(reversed(target)):\n",
    "        if bit == '0':\n",
    "            qc.x(i)\n",
    "    return qc"
   ]
  },
  {
   "cell_type": "code",
   "execution_count": null,
   "metadata": {},
   "outputs": [],
   "source": [
    "n=2\n",
    "target = '11'  # try '00','01','10','11'\n",
    "qc = QuantumCircuit(n, n)\n",
    "\n",
    "# 1) Init\n",
    "qc.h(range(n))\n",
    "\n",
    "# 2) Oracle\n",
    "qc.append(phase_oracle_for_state(target, n), range(n))\n",
    "\n",
    "# 3) Diffuser\n",
    "qc.append(diffuser(n), range(n))\n",
    "\n",
    "# 4) Measure\n",
    "qc.measure(range(n), range(n))\n",
    "qc.draw('mpl')"
   ]
  },
  {
   "cell_type": "code",
   "execution_count": null,
   "metadata": {},
   "outputs": [],
   "source": [
    "compiled_circuit = transpile(qc, backend)\n",
    "job = backend.run(compiled_circuit, shots=1024)\n",
    "result = job.result()\n",
    "counts = result.get_counts()\n",
    "print(counts)\n",
    "plot_histogram(counts)"
   ]
  },
  {
   "cell_type": "markdown",
   "metadata": {},
   "source": [
    "**Try it**\n",
    "- Change `target` to another bitstring and re‑run.\n",
    "- For 2 qubits, one Grover iteration is enough; for larger N, use `~sqrt(N)` iterations."
   ]
  }
 ],
 "metadata": {
  "kernelspec": {
   "display_name": "Python 3",
   "language": "python",
   "name": "python3"
  },
  "language_info": {
   "name": "python",
   "version": "3"
  }
 },
 "nbformat": 4,
 "nbformat_minor": 5
}
