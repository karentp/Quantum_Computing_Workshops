{
 "cells": [
  {
   "cell_type": "markdown",
   "metadata": {},
   "source": [
    "# Notebook 3 — Simulator vs Hardware (IBM Runtime)\n",
    "**Goal:** Run the same circuit on a simulator and on real IBM hardware (if available).\n",
    "\n",
    "> Hardware access requires an IBM Quantum account and API token. See `00_Environment_Setup.md`."
   ]
  },
  {
   "cell_type": "code",
   "execution_count": 1,
   "metadata": {},
   "outputs": [
    {
     "data": {
      "image/png": "[encoded data removed]",
      "text/plain": [
       "<Figure size 454.517x284.278 with 1 Axes>"
      ]
     },
     "execution_count": 1,
     "metadata": {},
     "output_type": "execute_result"
    }
   ],
   "source": [
    "# Circuit: simple Bell state for hardware comparison\n",
    "from qiskit import QuantumCircuit, transpile\n",
    "from qiskit_aer import Aer\n",
    "from qiskit.visualization import plot_histogram\n",
    "import matplotlib.pyplot as plt\n",
    "\n",
    "qc = QuantumCircuit(2, 2)\n",
    "qc.h(0)\n",
    "qc.cx(0, 1)\n",
    "qc.measure([0,1], [0,1])\n",
    "qc.draw('mpl')"
   ]
  },
  {
   "cell_type": "code",
   "execution_count": 2,
   "metadata": {},
   "outputs": [
    {
     "name": "stdout",
     "output_type": "stream",
     "text": [
      "Simulator counts: {'11': 1054, '00': 994}\n"
     ]
    },
    {
     "data": {
      "image/png": "[encoded data removed]",
      "text/plain": [
       "<Figure size 640x480 with 1 Axes>"
      ]
     },
     "execution_count": 2,
     "metadata": {},
     "output_type": "execute_result"
    }
   ],
   "source": [
    "# --- Run on simulator\n",
    "backend_sim = Aer.get_backend('qasm_simulator')\n",
    "compiled_circuit = transpile(qc, backend_sim)\n",
    "job = backend_sim.run(compiled_circuit, shots=2048)\n",
    "sim_result = job.result()\n",
    "sim_counts = sim_result.get_counts()\n",
    "print(\"Simulator counts:\", sim_counts)\n",
    "plot_histogram(sim_counts)"
   ]
  },
  {
   "cell_type": "code",
   "execution_count": 7,
   "metadata": {},
   "outputs": [
    {
     "name": "stderr",
     "output_type": "stream",
     "text": [
      "qiskit_runtime_service._resolve_cloud_instances:WARNING:2025-08-26 12:42:42,819: Default instance not set. Searching all available instances.\n"
     ]
    },
    {
     "name": "stdout",
     "output_type": "stream",
     "text": [
      "Selected backend: ibm_torino\n",
      "IBM Runtime path not available in this environment: Session.__init__() got an unexpected keyword argument 'service'\n",
      "This usually means:\n",
      "1. IBM Quantum account not set up (run setup_ibm_quantum.py)\n",
      "2. No qiskit-ibm-runtime package installed (pip install qiskit-ibm-runtime)\n",
      "3. No API token saved\n",
      "4. Using older qiskit-ibm-runtime version (try: pip install --upgrade qiskit-ibm-runtime)\n"
     ]
    }
   ],
   "source": [
    "# --- Try IBM Runtime (modern API). If unavailable, this cell will print a helpful message.\n",
    "try:\n",
    "    from qiskit_ibm_runtime import QiskitRuntimeService, SamplerV2, Session\n",
    "\n",
    "    # Initialize the service (requires saved account)\n",
    "    service = QiskitRuntimeService()\n",
    "    \n",
    "    # Get available backends (try to find a real quantum backend)\n",
    "    backends = service.backends(simulator=False, operational=True)\n",
    "    if backends:\n",
    "        backend = backends[0]  # Use the first available backend\n",
    "        print(f\"Selected backend: {backend.name}\")\n",
    "        \n",
    "        # Create session and sampler (SamplerV2 approach)\n",
    "        with Session(service=service, backend=backend) as session:\n",
    "            sampler = SamplerV2(session=session)\n",
    "            job = sampler.run([qc], shots=2048)\n",
    "            hw_result = job.result()\n",
    "            \n",
    "            # Extract counts from SamplerV2 result\n",
    "            pub_result = hw_result[0]  # First (and only) pub result\n",
    "            hw_counts = pub_result.data.meas.get_counts()\n",
    "            print(\"Hardware (SamplerV2) counts:\", hw_counts)\n",
    "    else:\n",
    "        print(\"No real quantum backends available. Try using a simulator backend instead.\")\n",
    "        # Fallback to simulator\n",
    "        sim_backends = service.backends(simulator=True)\n",
    "        if sim_backends:\n",
    "            backend = sim_backends[0]\n",
    "            print(f\"Using simulator backend: {backend.name}\")\n",
    "            \n",
    "            with Session(service=service, backend=backend) as session:\n",
    "                sampler = SamplerV2(session=session)\n",
    "                job = sampler.run([qc], shots=2048)\n",
    "                hw_result = job.result()\n",
    "                \n",
    "                pub_result = hw_result[0]\n",
    "                hw_counts = pub_result.data.meas.get_counts()\n",
    "                print(\"Simulator (via Runtime SamplerV2) counts:\", hw_counts)\n",
    "        else:\n",
    "            print(\"No backends available through IBM Runtime\")\n",
    "            \n",
    "except Exception as e:\n",
    "    print(\"IBM Runtime path not available in this environment:\", e)\n",
    "    print(\"This usually means:\")\n",
    "    print(\"1. IBM Quantum account not set up (run setup_ibm_quantum.py)\")\n",
    "    print(\"2. No qiskit-ibm-runtime package installed (pip install qiskit-ibm-runtime)\")\n",
    "    print(\"3. No API token saved\")\n",
    "    print(\"4. Using older qiskit-ibm-runtime version (try: pip install --upgrade qiskit-ibm-runtime)\")"
   ]
  },
  {
   "cell_type": "code",
   "execution_count": 6,
   "metadata": {},
   "outputs": [
    {
     "name": "stderr",
     "output_type": "stream",
     "text": [
      "qiskit_runtime_service._resolve_cloud_instances:WARNING:2025-08-26 12:41:30,378: Default instance not set. Searching all available instances.\n"
     ]
    },
    {
     "name": "stdout",
     "output_type": "stream",
     "text": [
      "Selected backend: ibm_brisbane\n",
      "Direct backend access not available: 'Support for backend.run() has been removed. Please see our migration guide https://quantum.cloud.ibm.com/docs/migration-guides/qiskit-runtime for instructions on how to migrate to the primitives interface.'\n",
      "Common issues:\n",
      "- Backend name doesn't exist or isn't available\n",
      "- Account doesn't have access to that backend\n",
      "- qiskit-ibm-runtime not installed\n"
     ]
    }
   ],
   "source": [
    "# --- Alternative: Direct backend access (if you have qiskit-ibm-runtime)\n",
    "try:\n",
    "    from qiskit_ibm_runtime import QiskitRuntimeService\n",
    "    \n",
    "    service = QiskitRuntimeService()\n",
    "    \n",
    "    # Get a real quantum backend directly\n",
    "    backend = service.backend('ibm_brisbane')  # Try a specific backend name\n",
    "    print(f\"Selected backend: {backend.name}\")\n",
    "    \n",
    "    # Run job directly on backend (traditional approach)\n",
    "    compiled_circuit = transpile(qc, backend)\n",
    "    job = backend.run(compiled_circuit, shots=2048)\n",
    "    print(\"Job ID:\", job.job_id())\n",
    "    \n",
    "    # This will likely queue - in a real workshop you'd wait or check status\n",
    "    print(\"Job queued! In a real scenario you'd wait for completion...\")\n",
    "    print(\"Job status:\", job.status())\n",
    "    \n",
    "except Exception as e:\n",
    "    print(\"Direct backend access not available:\", e)\n",
    "    print(\"Common issues:\")\n",
    "    print(\"- Backend name doesn't exist or isn't available\")\n",
    "    print(\"- Account doesn't have access to that backend\")\n",
    "    print(\"- qiskit-ibm-runtime not installed\")"
   ]
  },
  {
   "cell_type": "markdown",
   "metadata": {},
   "source": [
    "**Discussion**\n",
    "- Compare simulator vs hardware results; notice noise on hardware.\n",
    "- Talk about error sources and simple mitigation strategies."
   ]
  }
 ],
 "metadata": {
  "kernelspec": {
   "display_name": "Python 3",
   "language": "python",
   "name": "python3"
  },
  "language_info": {
   "codemirror_mode": {
    "name": "ipython",
    "version": 3
   },
   "file_extension": ".py",
   "mimetype": "text/x-python",
   "name": "python",
   "nbconvert_exporter": "python",
   "pygments_lexer": "ipython3",
   "version": "3.12.11"
  }
 },
 "nbformat": 4,
 "nbformat_minor": 5
}
