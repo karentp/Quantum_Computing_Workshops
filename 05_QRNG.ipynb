{
 "cells": [
  {
   "cell_type": "markdown",
   "metadata": {},
   "source": [
    "# Notebook 5 — Quantum Random Number Generator (QRNG)\n",
    "**Goal:** Use superposition and measurement to generate random bits/integers."
   ]
  },
  {
   "cell_type": "code",
   "execution_count": 1,
   "metadata": {},
   "outputs": [],
   "source": [
    "from qiskit import QuantumCircuit, transpile\n",
    "from qiskit_aer import Aer\n",
    "import matplotlib.pyplot as plt\n",
    "from qiskit.visualization import plot_histogram"
   ]
  },
  {
   "cell_type": "code",
   "execution_count": null,
   "metadata": {},
   "outputs": [],
   "source": [
    "def qrng_bits(n_bits=8, shots=1):\n",
    "    qc = QuantumCircuit(n_bits, n_bits)\n",
    "    for i in range(n_bits):\n",
    "        qc.h(i)\n",
    "        qc.measure(i, i)\n",
    "    backend = Aer.get_backend('qasm_simulator')\n",
    "    compiled_circuit = transpile(qc, backend)\n",
    "    job = backend.run(compiled_circuit, shots=shots)\n",
    "    result = job.result()\n",
    "    counts = result.get_counts()\n",
    "    return counts, qc\n",
    "\n",
    "counts, qc = qrng_bits(8, shots=1)\n",
    "print(\"Sample (bitstring -> frequency):\", counts)\n",
    "qc.draw('mpl')"
   ]
  },
  {
   "cell_type": "code",
   "execution_count": null,
   "metadata": {},
   "outputs": [],
   "source": [
    "# Generate many samples and visualize distribution of 0/1 per bit\n",
    "counts, _ = qrng_bits(8, shots=1024)\n",
    "print(counts)\n",
    "plot_histogram(counts)"
   ]
  },
  {
   "cell_type": "markdown",
   "metadata": {},
   "source": [
    "**Extensions**\n",
    "- Map bitstrings to integers in a range (e.g., 0–255).\n",
    "- Post‑processing for unbiased ranges (e.g., rejection sampling)."
   ]
  }
 ],
 "metadata": {
  "kernelspec": {
   "display_name": "Python 3",
   "language": "python",
   "name": "python3"
  },
  "language_info": {
   "codemirror_mode": {
    "name": "ipython",
    "version": 3
   },
   "file_extension": ".py",
   "mimetype": "text/x-python",
   "name": "python",
   "nbconvert_exporter": "python",
   "pygments_lexer": "ipython3",
   "version": "3.12.11"
  }
 },
 "nbformat": 4,
 "nbformat_minor": 5
}
